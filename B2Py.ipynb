{
  "cells": [
    {
      "cell_type": "markdown",
      "metadata": {
        "id": "Pc2g70Zgawim"
      },
      "source": [
        "# B Refinement Caluclus in Python\n",
        "\n",
        "Refinement calculus is a technique for building software that's correct-by-construction. One starts with an abstract model of the system or program and continues refining it by adding details to it, e.g, one can add more functionality (called events), one can make data structures more precise (e.g., using functions or arrays instead of sets) to reach a point in which the model is close to code written in a traditional programming language. Refinement calculus offers a CbC mechanism, therefore, a program is produced besides a correctness proof. Hence, producing a CbC program requires one to discharge proof obligations (POs). Those POs diverse in nature, e.g., refinement conditions, well-definedness, invariant preservation, etc. We use the Z3 API of Python to discharge POs. "
      ]
    },
    {
      "cell_type": "code",
      "execution_count": 1,
      "metadata": {
        "colab": {
          "base_uri": "https://localhost:8080/"
        },
        "id": "NfT4DY0-ayB-",
        "outputId": "6a5bee0e-1916-41b5-c302-1aad0f81bfb7"
      },
      "outputs": [
        {
          "output_type": "stream",
          "name": "stdout",
          "text": [
            "Looking in indexes: https://pypi.org/simple, https://us-python.pkg.dev/colab-wheels/public/simple/\n",
            "Collecting z3-solver\n",
            "  Downloading z3_solver-4.12.1.0-py2.py3-none-manylinux1_x86_64.whl (56.0 MB)\n",
            "\u001b[2K     \u001b[90m━━━━━━━━━━━━━━━━━━━━━━━━━━━━━━━━━━━━━━━━\u001b[0m \u001b[32m56.0/56.0 MB\u001b[0m \u001b[31m11.2 MB/s\u001b[0m eta \u001b[36m0:00:00\u001b[0m\n",
            "\u001b[?25hInstalling collected packages: z3-solver\n",
            "Successfully installed z3-solver-4.12.1.0\n"
          ]
        }
      ],
      "source": [
        "!pip install z3-solver"
      ]
    },
    {
      "cell_type": "code",
      "execution_count": 2,
      "metadata": {
        "id": "plY5bmH4AG8y"
      },
      "outputs": [],
      "source": [
        "from z3 import *\n"
      ]
    },
    {
      "cell_type": "markdown",
      "metadata": {
        "id": "u2HM6isHa5wr"
      },
      "source": [
        "# Weakest precondition calculus (WP) encoding\n",
        "\n",
        "In the style of weakest precondition (WP) calculus, we define Event-B (EB) constructors as property transformers, which take a property and return the property with appropriate substitutions. WP calculus works backward from a program post-condition predicate, successively using each program statement to transform the predicate into the program's WP. It is the WP pre-condition in the sense that any other pre-condition that makes the program correct is stronger (implies) than the WP."
      ]
    },
    {
      "cell_type": "code",
      "execution_count": 3,
      "metadata": {
        "id": "cZCvgpRia6jq"
      },
      "outputs": [],
      "source": [
        "# it returns a function that takes a post-condition and \n",
        "# replaces free occurrences of x with e\n",
        "def assg_(x,e):\n",
        "  return lambda post: \\\n",
        "    substitute(post, (x,e)) # implemented in Z3\n",
        "\n",
        "# an event body; it replaces in reverse order from the end to the beginning\n",
        "# notice that in EB the order does not actually matter because \n",
        "# assignments are made into disjoint set of variables   \n",
        "def begin_(*assgs):\n",
        "    def res(post):\n",
        "        wp = post\n",
        "        for s in reversed(assgs):\n",
        "            wp = s(wp)\n",
        "        return wp\n",
        "    return res\n",
        "\n",
        "# does {pre} prog {post} hold?\n",
        "# 1. the precondition holds\n",
        "# 2. the precondition implies the WP\n",
        "def verify_event(pre,prog,post):\n",
        "  prove(And(pre,Implies(pre,prog(post))))\n",
        " \n",
        "# does 'pred' hold?\n",
        "def holds(pred): \n",
        "  solver = Solver()\n",
        "  solver.add(pred)\n",
        "  res = (solver.check() == sat)\n",
        "  return res     \n",
        "\n",
        "# is the event enabled?\n",
        "def isEnabled(guard): \n",
        "    def res(solver):\n",
        "        solver.push()\n",
        "        solver.add(guard) \n",
        "        enabled = (solver.check() == sat)\n",
        "        solver.pop() # it guarantees the solver is not modified\n",
        "        return enabled\n",
        "    return res\n",
        "\n",
        "# it runs the event ... Any guard Then body End against post\n",
        "def event_(guard,body,post): \n",
        "    def res(solver):\n",
        "        if isEnabled(guard)(solver):\n",
        "            #solver.add(guard)\n",
        "            weakestPrecond = body(post)\n",
        "            if weakestPrecond != None:\n",
        "              solver.add(weakestPrecond)\n",
        "        return solver\n",
        "    return res\n",
        "\n",
        "# skip statement\n",
        "skip = lambda post: post"
      ]
    },
    {
      "cell_type": "markdown",
      "metadata": {
        "id": "pXFdAjaIG-hC"
      },
      "source": [
        "# Example: WP calculus\n",
        "\n",
        "This small example shows how to calculate the WP of a program for a given postcondition <code>postWP</code>."
      ]
    },
    {
      "cell_type": "code",
      "execution_count": 4,
      "metadata": {
        "colab": {
          "base_uri": "https://localhost:8080/"
        },
        "id": "7rWvLp0jFq_W",
        "outputId": "f25d52dd-1f85-44e9-9a03-cd0af17becd1"
      },
      "outputs": [
        {
          "output_type": "stream",
          "name": "stdout",
          "text": [
            "wp:  55 < 44\n",
            "counterexample\n",
            "[]\n"
          ]
        }
      ],
      "source": [
        "x = Const('x',IntSort())\n",
        "e = IntVal(44)\n",
        "\n",
        "body = assg_(x,e)\n",
        "postconditon = (x>IntVal(55))\n",
        "\n",
        "print('wp: ', body(postconditon))\n",
        "prove(body(postconditon))"
      ]
    },
    {
      "cell_type": "markdown",
      "metadata": {
        "id": "l-KwDRwaT7Wq"
      },
      "source": [
        "# LTL Syntax in Z3\n",
        "Our goal is to encode a translation from LTL to Python (<code>LTL2Py</code>) and thus be able to model and verify safety properties. The encoding below uses the Z3's <code>Datatype</code> type constructor to encode the LTL syntax.\n"
      ]
    },
    {
      "cell_type": "code",
      "execution_count": 5,
      "metadata": {
        "id": "kyqF8rCMfTdD"
      },
      "outputs": [],
      "source": [
        "# datatypes for safety propertes\n",
        "Ltl = Datatype('Ltl') # LTL datatype\n",
        "Trace = Datatype('Trace') # Trace datatype\n",
        "Events = Datatype('Events') # Events datatype\n",
        "\n",
        "Ltl.declare('after',('after_events',Events),('after_ltl',Ltl))\n",
        "Ltl.declare('unless',('unless_trace',Trace),('unless_events',Events))\n",
        "Ltl.declare('trace',('ltl_trace',Trace))\n",
        "\n",
        "Trace.declare('always', ('always_events',Events))\n",
        "\n",
        "Events.declare('e_cons', ('e_car',BoolSort()), ('e_cdr',Events))\n",
        "Events.declare('e_nil')\n",
        "\n",
        "Trace, Ltl, Events = CreateDatatypes(Trace, Ltl, Events)\n",
        "after = Ltl.after\n",
        "unless = Ltl.unless\n",
        "trace = Ltl.trace\n",
        "#\n",
        "after_events = Ltl.after_events\n",
        "after_ltl = Ltl.after_ltl\n",
        "ltl_trace = Ltl.ltl_trace\n",
        "#\n",
        "unless_trace = Ltl.unless_trace\n",
        "unless_events = Ltl.unless_events\n",
        "#\n",
        "always = Trace.always\n",
        "always_events = Trace.always_events\n",
        "#\n",
        "e_cons = Events.e_cons\n",
        "e_car = Events.e_car\n",
        "e_cdr = Events.e_cdr\n",
        "e_nil = Events.e_nil "
      ]
    },
    {
      "cell_type": "markdown",
      "metadata": {
        "id": "45Ojhqu-ZNYd"
      },
      "source": [
        "## Example 1a: Encoding  LTL properties\n",
        "\n",
        "We encode the following property using the previous syntax. Our LTL properties use *executed* and *enabled* variables. The purpose of these variables is discussed later on.\n",
        "\n",
        "```\n",
        "after send_joining_request_executed (\n",
        "  always authorize_joining_request_enabled\n",
        "    unless joining_executed \n",
        ")\n",
        "```  "
      ]
    },
    {
      "cell_type": "code",
      "execution_count": 6,
      "metadata": {
        "colab": {
          "base_uri": "https://localhost:8080/",
          "height": 52
        },
        "id": "5oyOw-XmZqBf",
        "outputId": "08ce51c6-2cf3-4953-a578-347a26c6c5db"
      },
      "outputs": [
        {
          "output_type": "stream",
          "name": "stdout",
          "text": [
            "LTL property: \n"
          ]
        },
        {
          "output_type": "execute_result",
          "data": {
            "text/plain": [
              "after(e_cons(send_joining_request_executed, e_nil),\n",
              "      unless(always(e_cons(authorize_joining_request_enabled,\n",
              "                           e_nil)),\n",
              "             e_cons(joining_front_executed, e_nil)))"
            ],
            "text/html": [
              "after(e_cons(send_joining_request_executed, e_nil),\n",
              "      unless(always(e_cons(authorize_joining_request_enabled,\n",
              "                           e_nil)),\n",
              "             e_cons(joining_front_executed, e_nil)))"
            ]
          },
          "metadata": {},
          "execution_count": 6
        }
      ],
      "source": [
        "send_joining_request_executed = Bool('send_joining_request_executed')\n",
        "authorize_joining_request_enabled = Bool('authorize_joining_request_enabled')\n",
        "joining_front_executed = Bool('joining_front_executed')\n",
        "\n",
        "e1 = (e_cons(send_joining_request_executed,e_nil))\n",
        "e2 = (e_cons(authorize_joining_request_enabled, e_nil))\n",
        "e3 = (e_cons(joining_front_executed, e_nil))\n",
        "\n",
        "trace_prop1 = always(e2)\n",
        "ltl_prop1 = unless(trace_prop1,e3)\n",
        "ltl_01 = after(e1,ltl_prop1)\n",
        "\n",
        "print('LTL property: ')\n",
        "ltl_01"
      ]
    },
    {
      "cell_type": "markdown",
      "metadata": {
        "id": "9DIdGAqnLVOl"
      },
      "source": [
        "## Example 1b: Encoding  LTL properties\n",
        "\n",
        "```\n",
        "after joining_executed (\n",
        "  always authorize_joining_request_disabled\n",
        ")\n",
        "``` "
      ]
    },
    {
      "cell_type": "code",
      "execution_count": 7,
      "metadata": {
        "colab": {
          "base_uri": "https://localhost:8080/",
          "height": 52
        },
        "id": "EfyduJmBLWuX",
        "outputId": "8be7e6ea-0b42-4271-9816-78ff9ea16ae7"
      },
      "outputs": [
        {
          "output_type": "stream",
          "name": "stdout",
          "text": [
            "LTL property: \n"
          ]
        },
        {
          "output_type": "execute_result",
          "data": {
            "text/plain": [
              "after(e_cons(joining_front_executed, e_nil),\n",
              "      trace(always(e_cons(authorize_joining_request_enabled ==\n",
              "                          False,\n",
              "                          e_nil))))"
            ],
            "text/html": [
              "after(e_cons(joining_front_executed, e_nil),\n",
              "      trace(always(e_cons(authorize_joining_request_enabled =\n",
              "                          False,\n",
              "                          e_nil))))"
            ]
          },
          "metadata": {},
          "execution_count": 7
        }
      ],
      "source": [
        "e4 = (e_cons(authorize_joining_request_enabled == False, e_nil))\n",
        "e5 = (e_cons(joining_front_executed, e_nil))\n",
        "\n",
        "trace_prop2 = always(e4)\n",
        "\n",
        "ltl_prop2 = trace(trace_prop2)\n",
        "ltl_02 = after(e5,ltl_prop2)\n",
        "\n",
        "print('LTL property: ')\n",
        "ltl_02"
      ]
    },
    {
      "cell_type": "markdown",
      "metadata": {
        "id": "Gxy1245XYDAe"
      },
      "source": [
        "## LTL2Py: encoding LTL safety properties in Python\n",
        "To be able to port LTL properties into Python, we need to create and give all the **executed** variables of our model initial values. Our encoding adds an <code> e_executed := True </code> assignment to the body of each event <code>e</code> and an <code> e1_executed := False </code> assignment to the body of any other event <code>e1</code>. This part is achieved through the function <code>ltl2py_executed</code> below. The compmlete translation from LTL to Python (<code>LTLPy</code>) is achieved through all the <code>ltl2py</code> functions below altogether, of which <code>ltl2py_after</code> is the main function."
      ]
    },
    {
      "cell_type": "code",
      "execution_count": 8,
      "metadata": {
        "id": "p5eqzr4-YDtu"
      },
      "outputs": [],
      "source": [
        "# It returns a list of boolean assignments: \n",
        "# 1. e_executed := BoolVal(True)\n",
        "# 2. e1_executed := BoolVal(False) for-all e1 in elist\n",
        "def ltl2py_executed(e, elist):\n",
        "  varname = e + \"_executed\"\n",
        "  globalnames = globals()\n",
        "  assgs = [assg_(globalnames[varname],BoolVal(True))]\n",
        "  for e1 in elist:\n",
        "    if e1 != elist:\n",
        "      var = e1 + \"_executed\"\n",
        "      assgs.append(assg_(globalnames[var],BoolVal(False)))\n",
        "  return assgs\n",
        "\n",
        "def ltl2py_event(e):\n",
        "  return e  \n",
        "\n",
        "def ltl2py_some_events(el):\n",
        "  if el == e_nil: return True\n",
        "  else:\n",
        "    e = simplify(e_car(el)) \n",
        "    l = simplify(e_cdr(el))\n",
        "    return Or(ltl2py_event(e),ltl2py_some_events(l))\n",
        "\n",
        "def ltl2py_all_events(el):\n",
        "  if el == e_nil: \n",
        "    return True\n",
        "  else:\n",
        "    e = simplify(e_car(el)) \n",
        "    l = simplify(e_cdr(el))\n",
        "    return And(ltl2py_event(e),ltl2py_all_events(l))\n",
        "\n",
        "def ltl2py_always(a):\n",
        "  e = simplify(always_events(a))\n",
        "  return ltl2py_all_events(e)\n",
        "\n",
        "def ltl2py_trace(t):   \n",
        "  if Trace.always_events(t) == simplify(Trace.always_events(t)):\n",
        "    return False\n",
        "  else:\n",
        "    e = simplify(always_events(t))\n",
        "    return ltl2py_all_events(e)\n",
        "\n",
        "def ltl2py_unless(u):\n",
        "  e2 = simplify(unless_events(u))\n",
        "  t = simplify(unless_trace(u))\n",
        "  return Or(  ltl2py_trace(t),\n",
        "              Implies(ltl2py_some_events(e2),\n",
        "                      Not(ltl2py_trace(t)) \n",
        "              )\n",
        "          ) \n",
        "\n",
        "def ltl2py_ltl(l):\n",
        "  if Ltl.unless_trace(l) == simplify(Ltl.unless_trace(l)):\n",
        "    if Ltl.ltl_trace(l) == simplify(Ltl.ltl_trace(l)): return False\n",
        "    else: \n",
        "      t = simplify(Ltl.ltl_trace(l))\n",
        "      return ltl2py_trace(t)\n",
        "  else: \n",
        "    return ltl2py_unless(l)\n",
        "\n",
        "def ltl2py_after(a):\n",
        "  e1 = simplify(after_events(a))\n",
        "  l = simplify(after_ltl(a))\n",
        "  return Implies(ltl2py_all_events(e1), ltl2py_ltl(l))    "
      ]
    },
    {
      "cell_type": "markdown",
      "metadata": {
        "id": "Up9LLKb2Do9q"
      },
      "source": [
        "## Example 2: translating an LTL property into Z3.\n",
        "Next, we translate the following property into Python and Z3.\n",
        "\n",
        "```\n",
        "after send_joining_request_executed (\n",
        "  always authorize_joining_request_enabled\n",
        "    unless joining_front_executed \n",
        ")\n",
        "```  "
      ]
    },
    {
      "cell_type": "code",
      "execution_count": 9,
      "metadata": {
        "colab": {
          "base_uri": "https://localhost:8080/"
        },
        "id": "HxhpWijF2gW4",
        "outputId": "f6ca85c3-ed4b-43e6-c3b8-3f6e02ce0ae0"
      },
      "outputs": [
        {
          "output_type": "stream",
          "name": "stdout",
          "text": [
            "LTL property\n",
            "after(e_cons(send_joining_request_executed, e_nil),\n",
            "      unless(always(e_cons(authorize_joining_request_enabled,\n",
            "                           e_nil)),\n",
            "             e_cons(joining_front_executed, e_nil)))\n",
            "\n",
            "Z3 property\n",
            "Implies(And(send_joining_request_executed, True),\n",
            "        Or(And(authorize_joining_request_enabled, True),\n",
            "           Implies(Or(joining_front_executed, True),\n",
            "                   Not(And(authorize_joining_request_enabled,\n",
            "                           True)))))\n"
          ]
        }
      ],
      "source": [
        "send_joining_request_executed = Bool('send_joining_request_executed')\n",
        "authorize_joining_request_enabled = Bool('authorize_joining_request_enabled')\n",
        "joining_front_executed = Bool('joining_front_executed')\n",
        "\n",
        "e1 = (e_cons(send_joining_request_executed,e_nil))\n",
        "e2 = (e_cons(authorize_joining_request_enabled, e_nil))\n",
        "e3 = (e_cons(joining_front_executed, e_nil))\n",
        "\n",
        "trace_prop1 = always(e2)\n",
        "ltl_prop1 = unless(trace_prop1,e3)\n",
        "ltl_01 = after(e1,ltl_prop1)\n",
        "\n",
        "print('LTL property')\n",
        "print(ltl_01)\n",
        "print()\n",
        "inv1 = ltl2py_after(ltl_01)\n",
        "print('Z3 property')\n",
        "print(inv1)"
      ]
    },
    {
      "cell_type": "markdown",
      "metadata": {
        "id": "y3ykYhtCRLGi"
      },
      "source": [
        "```\n",
        "after joining_front_executed (\n",
        "  always authorize_joining_request_disabled\n",
        ")\n",
        "``` "
      ]
    },
    {
      "cell_type": "code",
      "execution_count": 10,
      "metadata": {
        "colab": {
          "base_uri": "https://localhost:8080/"
        },
        "id": "q3kzM76KRN0q",
        "outputId": "f65ab45f-d5c0-4466-f674-1145da1a5607"
      },
      "outputs": [
        {
          "output_type": "stream",
          "name": "stdout",
          "text": [
            "LTL property\n",
            "after(e_cons(joining_front_executed, e_nil),\n",
            "      trace(always(e_cons(authorize_joining_request_enabled ==\n",
            "                          False,\n",
            "                          e_nil))))\n",
            "\n",
            "Z3 property\n",
            "Implies(And(joining_front_executed, True),\n",
            "        And(Not(authorize_joining_request_enabled), True))\n",
            "\n",
            "is the Z3 property satisfiable?\n",
            "the model is sat\n",
            "model:  [joining_front_executed = False,\n",
            " authorize_joining_request_enabled = False]\n"
          ]
        }
      ],
      "source": [
        "print('LTL property')\n",
        "print(ltl_02)\n",
        "print()\n",
        "inv2 = ltl2py_after(ltl_02)\n",
        "print('Z3 property')\n",
        "print(inv2)\n",
        "\n",
        "print('\\nis the Z3 property satisfiable?')\n",
        "\n",
        "s = Solver()\n",
        "s.add(inv2)\n",
        "\n",
        "res = (s.check() == sat)    \n",
        "if res:\n",
        "  print('the model is sat')\n",
        "  print('model: ', s.model())\n",
        "else:\n",
        "  print('the mode is unsat: ')\n",
        "  print('model: ', s) \n"
      ]
    },
    {
      "cell_type": "markdown",
      "metadata": {
        "id": "uptLyYnVK6C8"
      },
      "source": [
        "\n",
        "# Vehicle platooning\n",
        "We next want to show how to verify invariant properties of a vehicle platooning system. Notice that the <code>ltl2py</code> functions translate LTL formulae into invariant properties as well. But, first of all, we need to model the vehicle platooning system."
      ]
    },
    {
      "cell_type": "code",
      "execution_count": 11,
      "metadata": {
        "id": "J7msxm_RIyVF"
      },
      "outputs": [],
      "source": [
        "Z = IntSort()\n",
        "Position = Datatype('Position')\n",
        "Position.declare('rear')\n",
        "Position.declare('front')\n",
        "Position = Position.create()\n",
        "\n",
        "# machine variables \n",
        "vehiclesSort = SetSort(Z)\n",
        "vehicles = Const('vehicles',vehiclesSort)\n",
        "platoon = Const('platoon',vehiclesSort)\n",
        "next = Array('next', Z, Z)\n",
        "leader = Const('leader', SetSort(Z))\n",
        "j_requests = Const('j_requests',vehiclesSort) \n",
        "j_authorized = Const('j_authorized',vehiclesSort)\n",
        "l_requests = Const('j_requests',vehiclesSort) \n",
        "l_authorized = Const('j_authorized',vehiclesSort)\n",
        "\n",
        "# event parameters are created as global machine variables\n",
        "Vehicle = Const('Vehicle', IntSort())\n",
        "newVehicle = Const('newVehicle', IntSort())\n",
        "\n",
        "# *executed* and *enabled* machine variables\n",
        "add_vehicle_executed = Bool('add_vehicle_executed')\n",
        "create_platoon_executed = Bool('create_platoon_executed')\n",
        "set_leader_executed = Bool('set_leader_executed')\n",
        "send_joining_request_executed = Bool('send_joining_request_executed')\n",
        "authorize_joining_request_executed = Bool('authorize_joining_request_executed')\n",
        "joining_front_executed = Bool('joining_front_executed')\n",
        "joining_front_head_executed = Bool('joining_front_head_executed')\n",
        "joining_rear_executed = Bool('joining_rear_executed')\n",
        "joining_rear_tail_executed = Bool('joining_rear_tail_executed')\n",
        "send_leaving_request_executed = Bool('send_leaving_request_executed')\n",
        "authorize_leaving_request_executed = Bool('authorize_leaving_request_executed')\n",
        "leaving_executed = Bool('leaving_executed')\n",
        "\n",
        "add_vehicle_enabled = Bool('add_vehicle_enabled')\n",
        "create_platoon_enabled = Bool('create_platoon_enabled')\n",
        "set_leader_enabled = Bool('set_leader_enabled')\n",
        "send_joining_request_enabled = Bool('send_joining_request_enabled')\n",
        "authorize_joining_request_enabled = Bool('authorize_joining_request_enabled')\n",
        "joining_front_enabled = Bool('joining_front_enabled')\n",
        "joining_front_head_enabled = Bool('joining_front_head_enabled')\n",
        "joining_rear_enabled = Bool('joining_rear_enabled')\n",
        "joining_rear_tail_enabled = Bool('joining_rear_tail_enabled')\n",
        "send_leaving_request_enabled = Bool('send_leaving_request_enabled')\n",
        "authorize_leaving_request_enabled = Bool('authorize_leaving_request_enabled')\n",
        "leaving_enabled = Bool('leaving_enabled')\n",
        "\n",
        "platoon_event_names = ['add_vehicle','create_platoon', 'set_leader',\n",
        "         'send_joining_request', 'authorize_joining_request', \n",
        "         'joining_front', 'joining_front_head',\n",
        "         'joining_rear', 'joining_rear_tail',\n",
        "         'send_leaving_request', 'authorize_leaving_request',\n",
        "         'leaving']"
      ]
    },
    {
      "cell_type": "markdown",
      "metadata": {
        "id": "1ld4sCxdbcw7"
      },
      "source": [
        "\n",
        "# Vehicle platooning: the events\n",
        "Each machine event is realised through a <code>guard</code> and a <code>body</code> Python function. "
      ]
    },
    {
      "cell_type": "code",
      "execution_count": 12,
      "metadata": {
        "id": "GuWez-rabiPi"
      },
      "outputs": [],
      "source": [
        "# machine events\n",
        "#elist = platoon_event_names\n",
        "\n",
        "# event: add_vehicle\n",
        "def guard_add_vehicle(Vehicle):\n",
        "  return Not(IsMember(Vehicle,vehicles))\n",
        "\n",
        "def body_add_vehicle(Vehicle,elist) : \n",
        "  assgs0 = ltl2py_executed(\"add_vehicle\",elist)\n",
        "  assgs1 = [assg_(vehicles,SetAdd(vehicles,Vehicle))]\n",
        "  assgs2 = assgs0+assgs1\n",
        "  return begin_(*assgs2) \n",
        "\n",
        "# event create_platoon\n",
        "def guard_create_platoon(Vehicle):\n",
        "  return And(IsMember(Vehicle,vehicles),\n",
        "             eq(platoon,EmptySet(IntSort())))\n",
        "\n",
        "def body_create_platoon(Vehicle,elist):\n",
        "  assgs0 = ltl2py_executed(\"create_platoon\",elist)\n",
        "  assgs1 = [assg_(platoon,SetAdd(platoon,Vehicle))]\n",
        "  assgs2 = [assg_(leader,SetAdd(EmptySet(IntSort()),Vehicle))]\n",
        "  assgs3 = assgs0+assgs1+assgs2\n",
        "  return begin_(*assgs3)\n",
        "  \n",
        "# event: set_leader\n",
        "def guard_set_leader(Vehicle):\n",
        "  return IsMember(Vehicle,vehicles)            \n",
        "  \n",
        "# event: set_leader\n",
        "def body_set_leader(Vehicle,elist):\n",
        "  assgs0 = ltl2py_executed(\"set_leader\",elist)\n",
        "  assgs1 = [assg_(leader,SetAdd(EmptySet(IntSort()),Vehicle))]\n",
        "  assgs2 = assgs0+assgs1\n",
        "  return begin_(*assgs2)\n",
        "\n",
        "# send_joining_request\n",
        "def guard_send_joining_request(newVehicle):\n",
        "  return And(IsMember(newVehicle,vehicles),\n",
        "             Not(IsMember(newVehicle,platoon)),\n",
        "             Not(IsMember(newVehicle,j_requests)),\n",
        "             Not(eq(leader,EmptySet(IntSort()))))\n",
        "               \n",
        "def body_send_joining_request(newVehicle,elist):\n",
        "  assgs0 = ltl2py_executed(\"send_joining_request\",elist)\n",
        "  assgs1 = [assg_(j_requests,SetAdd(j_requests,newVehicle))]\n",
        "  assgs2 = assgs0+assgs1\n",
        "  return begin_(*assgs2) \n",
        "\n",
        "# event: authorize_joining_request\n",
        "def guard_authorize_joining_request(newVehicle):\n",
        "  return And(IsMember(newVehicle,vehicles),\n",
        "             Not(IsMember(newVehicle,platoon)),\n",
        "             IsMember(newVehicle,j_requests),\n",
        "             Not(eq(leader,EmptySet(IntSort()))))\n",
        "\n",
        "def body_authorize_joining_request(newVehicle,elist): \n",
        "  assgs0 = ltl2py_executed(\"authorize_joining_request\",elist) \n",
        "  assgs1 = [assg_(j_requests,SetDel(j_requests,newVehicle)),\n",
        "           assg_(j_authorized,SetAdd(j_authorized,newVehicle))]\n",
        "  assgs2 = assgs0+assgs1\n",
        "  return begin_(*assgs2)\n",
        "\n",
        "\n",
        "# event: joining_front_head\n",
        "def guard_joining_front_head(newVehicle,Vehicle):\n",
        "  return And(IsMember(Vehicle,vehicles),\n",
        "             IsMember(newVehicle,vehicles),\n",
        "             Not(IsMember(newVehicle,platoon)),\n",
        "             IsMember(Vehicle,platoon),\n",
        "             Not(IsMember(newVehicle,j_requests)),\n",
        "             IsMember(newVehicle,j_authorized),\n",
        "             Not(eq(leader,EmptySet(IntSort()))),\n",
        "             Select(next,Vehicle) == None\n",
        "  )\n",
        "\n",
        "def body_joining_front_head(newVehicle,Vehicle,elist):\n",
        "  assgs0 = ltl2py_executed(\"joining_front_head\",elist)\n",
        "  assgs1 = [assg_(platoon,SetAdd(platoon,newVehicle)),\n",
        "            assg_(j_authorized,SetDel(j_authorized,newVehicle)),\n",
        "            assg_(next,Store(next,Vehicle,newVehicle)),\n",
        "            ] \n",
        "  assgs2 = assgs0+assgs1\n",
        "  return begin_(*assgs2) \n",
        "\n",
        "\n",
        "# event: joining_rear\n",
        "def guard_joining_rear(newVehicle,Vehicle,Previous):\n",
        "  return And(IsMember(Vehicle,vehicles),\n",
        "             IsMember(newVehicle,vehicles),\n",
        "             IsMember(Previous,vehicles),\n",
        "             Not(IsMember(newVehicle,platoon)),\n",
        "             IsMember(Vehicle,platoon),\n",
        "             IsMember(Previous,platoon),\n",
        "             Not(IsMember(newVehicle,j_requests)),\n",
        "             IsMember(newVehicle,j_authorized),\n",
        "             Not(eq(leader,EmptySet(IntSort()))),\n",
        "             Select(next,Previous)==Vehicle\n",
        "  )\n",
        "\n",
        "def body_joining_rear(newVehicle,Vehicle,Previous,elist):\n",
        "  assgs0 = ltl2py_executed(\"joining_rear\",elist)\n",
        "  assgs1 = [assg_(platoon,SetAdd(platoon,newVehicle)),\n",
        "            assg_(j_authorized,SetDel(j_authorized,newVehicle)),\n",
        "            assg_(next,Store(Store(next,newVehicle,Select(next,Vehicle)),Vehicle,newVehicle)),\n",
        "            ] \n",
        "  assgs2 = assgs0+assgs1\n",
        "  return begin_(*assgs2) \n",
        "\n",
        "# event: joining_rear_tail\n",
        "def guard_joining_rear_tail(newVehicle,Vehicle):\n",
        "  return And(IsMember(Vehicle,vehicles),\n",
        "             IsMember(newVehicle,vehicles),\n",
        "             Not(IsMember(newVehicle,platoon)),\n",
        "             IsMember(Vehicle,platoon),\n",
        "             Not(IsMember(newVehicle,j_requests)),\n",
        "             IsMember(newVehicle,j_authorized),\n",
        "             Not(eq(leader,EmptySet(IntSort()))))\n",
        "  \n",
        "def body_joining_rear_tail(newVehicle,Vehicle,elist):\n",
        "  assgs0 = ltl2py_executed(\"joining_rear_tail\",elist)\n",
        "  assgs1 = [assg_(platoon,SetAdd(platoon,newVehicle)),\n",
        "            assg_(j_authorized,SetDel(j_authorized,newVehicle)),\n",
        "            assg_(next,Store(next,newVehicle,Vehicle)),\n",
        "            ] \n",
        "  assgs2 = assgs0+assgs1\n",
        "  return begin_(*assgs2) \n",
        "\n",
        "# event: leaving\n",
        "def guard_send_leaving_request(Vehicle):\n",
        "  return And(IsMember(Vehicle,vehicles),\n",
        "             IsMember(Vehicle,platoon),\n",
        "             Not(eq(leader,EmptySet(IntSort()))),\n",
        "             Not(IsMember(Vehicle,leader))\n",
        "  )\n",
        "\n",
        "def body_send_leaving_request(Vehicle,elist):\n",
        "  assgs0 = ltl2py_executed(\"send_leaving_request\",elist)\n",
        "  assgs1 = [assg_(l_requests,SetAdd(l_requests,Vehicle))]\n",
        "  assgs2 = assgs0+assgs1\n",
        "  return begin_(*assgs2) \n",
        "\n",
        "# event: authorize_leaving_request\n",
        "def guard_authorize_leaving_request(Vehicle):\n",
        "  return And(IsMember(Vehicle,vehicles),\n",
        "             IsMember(Vehicle,platoon),\n",
        "             IsMember(Vehicle,l_requests),\n",
        "             Not(eq(leader,EmptySet(IntSort()))),\n",
        "             Not(IsMember(Vehicle,leader))\n",
        "  )\n",
        "\n",
        "def body_authorize_leaving_request(Vehicle,elist):\n",
        "  assgs0 = ltl2py_executed(\"authorize_leaving_request\",elist)  \n",
        "  assgs1 = [assg_(l_requests,SetDel(l_requests,Vehicle)),\n",
        "            assg_(l_authorized,SetAdd(l_authorized,Vehicle)),\n",
        "            assg_(j_requests,SetDel(j_requests,Vehicle)),\n",
        "            assg_(j_authorized,SetDel(j_authorized,Vehicle))\n",
        "            ]\n",
        "  assgs2 = assgs0+assgs1\n",
        "  return begin_(*assgs2) \n",
        "\n",
        "# event: leaving\n",
        "def guard_leaving(Vehicle): \n",
        "  return And(IsMember(Vehicle,vehicles),\n",
        "             IsMember(Vehicle,platoon),\n",
        "             IsMember(Vehicle,l_authorized),\n",
        "             Not(eq(leader,EmptySet(IntSort()))),\n",
        "             Not(IsMember(Vehicle,leader))\n",
        "  )\n",
        "\n",
        "# event: leaving\n",
        "def body_leaving(Vehicle,elist):  \n",
        "  assgs0 = ltl2py_executed(\"leaving\",elist)\n",
        "  assgs1 = [assg_(l_authorized,SetDel(l_authorized,Vehicle)),\n",
        "            assg_(platoon,SetDel(platoon,Vehicle))\n",
        "            ]\n",
        "  assgs2 = assgs0+assgs1\n",
        "  return begin_(*assgs2) \n",
        "  \n"
      ]
    },
    {
      "cell_type": "markdown",
      "metadata": {
        "id": "RHbv7o7QLfIr"
      },
      "source": [
        "# Example 4: testing some of the vehicle platooning events\n",
        "\n",
        "**Test 1**: checks if <code>add_vehicle</code> works properly. \n",
        "\n",
        "**Test 2**: check if <code>send_joining_requests</code> works properly."
      ]
    },
    {
      "cell_type": "code",
      "execution_count": 13,
      "metadata": {
        "id": "ucmxMq9RvNCo",
        "colab": {
          "base_uri": "https://localhost:8080/"
        },
        "outputId": "b0cf32bf-014b-4e62-c6dd-cd02048cde7e"
      },
      "outputs": [
        {
          "output_type": "stream",
          "name": "stdout",
          "text": [
            "proved\n",
            "s: [Store(K(Int, False), 47, True)[47]]\n",
            "test 2: the model is sat\n",
            "model:  []\n"
          ]
        }
      ],
      "source": [
        "vehicles = EmptySet(IntSort())\n",
        "Vehicle0 = 47\n",
        "newVehicle0 = 55\n",
        "elist4 = ['add_vehicle', 'create_platoon', 'set_leader', 'send_joining_request', \n",
        "          'authorize_joining_request', 'joining_front_head', 'joining_rear', 'joining_rear_tail', \n",
        "          'send_leaving_request', 'authorize_leaving_request', 'leaving']\n",
        "\n",
        "# test 1\n",
        "\n",
        "# can we add a Vehicle?\n",
        "guard0 = guard_add_vehicle(Vehicle0)\n",
        "#assert(holds(guard0)) # these two lines are\n",
        "prove(BoolVal(holds(guard0))) #  equivalent\n",
        "\n",
        "# test 2\n",
        "\n",
        "# we add Vehicle to vehicles and then check if IsMember(Vehicle,vehicles)\n",
        "s = Solver()\n",
        "body0 = body_add_vehicle(Vehicle0,elist4)\n",
        "post0 = IsMember(Vehicle0,vehicles)\n",
        "s = event_(guard0,body0,post0)(s)\n",
        "\n",
        "print(\"s:\", s)\n",
        "\n",
        "res = (s.check() == sat)    \n",
        "if res:\n",
        "  print('test 2: the model is sat')\n",
        "  print('model: ', s.model())\n",
        "else:\n",
        "  print('test 2: the mode is unsat: ')\n",
        "  print('model: ', s) \n"
      ]
    },
    {
      "cell_type": "markdown",
      "source": [
        "# Example 5.a: using WP calculus to verify an LTL formula\n",
        "We show how to use WP calculus to verifiy the LTL property below for a platooning system. \n",
        "\n",
        "```\n",
        "after send_joining_request_executed (\n",
        "  always authorize_joining_request_enabled\n",
        "    unless joining_front_executed \n",
        ")\n",
        "```  "
      ],
      "metadata": {
        "id": "tpJZqJ-POOMI"
      }
    },
    {
      "cell_type": "code",
      "source": [
        "platoon_event_names = ['add_vehicle','create_platoon', 'set_leader',\n",
        "         'send_joining_request', 'authorize_joining_request', \n",
        "         'joining_front', 'joining_front_head',\n",
        "         'joining_rear', 'joining_rear_tail',\n",
        "         'send_leaving_request', 'authorize_leaving_request',\n",
        "         'leaving']\n",
        "\n",
        "# *executed* machine variables\n",
        "add_vehicle_executed = Bool('add_vehicle_executed')\n",
        "create_platoon_executed = Bool('create_platoon_executed')\n",
        "set_leader_executed = Bool('set_leader_executed')\n",
        "send_joining_request_executed = Bool('send_joining_request_executed')\n",
        "authorize_joining_request_executed = Bool('authorize_joining_request_executed')\n",
        "joining_front_executed = Bool('joining_front_executed')\n",
        "joining_front_head_executed = Bool('joining_front_head_executed')\n",
        "joining_rear_executed = Bool('joining_rear_executed')\n",
        "joining_rear_tail_executed = Bool('joining_rear_tail_executed')\n",
        "send_leaving_request_executed = Bool('send_leaving_request_executed')\n",
        "authorize_leaving_request_executed = Bool('authorize_leaving_request_executed')\n",
        "leaving_executed = Bool('leaving_executed')\n",
        "\n",
        "# *enabled* machine variables\n",
        "add_vehicle_enabled = Bool('add_vehicle_enabled')\n",
        "create_platoon_enabled = Bool('create_platoon_enabled')\n",
        "set_leader_enabled = Bool('set_leader_enabled')\n",
        "send_joining_request_enabled = Bool('send_joining_request_enabled')\n",
        "authorize_joining_request_enabled = Bool('authorize_joining_request_enabled')\n",
        "joining_front_enabled = Bool('joining_front_enabled')\n",
        "joining_front_head_enabled = Bool('joining_front_head_enabled')\n",
        "joining_rear_enabled = Bool('joining_rear_enabled')\n",
        "joining_rear_tail_enabled = Bool('joining_rear_tail_enabled')\n",
        "send_leaving_request_enabled = Bool('send_leaving_request_enabled')\n",
        "authorize_leaving_request_enabled = Bool('authorize_leaving_request_enabled')\n",
        "leaving_enabled = Bool('leaving_enabled')\n",
        "\n",
        "# machine variables \n",
        "vehiclesSort = SetSort(IntSort())\n",
        "vehicles = Const('vehicles',vehiclesSort)\n",
        "platoon = Const('platoon',vehiclesSort)\n",
        "next = Array('next', IntSort(), IntSort())\n",
        "leader = Const('leader', SetSort(IntSort()))\n",
        "j_requests = Const('j_requests',vehiclesSort) \n",
        "j_authorized = Const('j_authorized',vehiclesSort)\n",
        "l_requests = Const('j_requests',vehiclesSort) \n",
        "l_authorized = Const('j_authorized',vehiclesSort)\n",
        "\n",
        "# *excuted* variables initial values\n",
        "add_vehicle_executed = BoolVal(False)\n",
        "create_platoon_executed = BoolVal(False)\n",
        "set_leader_executed = BoolVal(False)\n",
        "send_joining_request_executed = BoolVal(False)\n",
        "authorize_joining_request_executed = BoolVal(False)\n",
        "joining_front_executed = BoolVal(False)\n",
        "joining_front_head_executed = BoolVal(False)\n",
        "joining_rear_executed = BoolVal(False)\n",
        "joining_rear_tail_executed = BoolVal(False)\n",
        "send_leaving_request_executed = BoolVal(False)\n",
        "authorize_leaving_request_executed = BoolVal(False)\n",
        "leaving_executed = BoolVal(False)\n",
        "\n",
        "# machine variables initial values\n",
        "vehicles = EmptySet(IntSort())\n",
        "platoon = EmptySet(IntSort())\n",
        "leader = EmptySet(IntSort())\n",
        "j_requests = EmptySet(IntSort())\n",
        "j_authorized = EmptySet(IntSort())\n",
        "l_requests = EmptySet(IntSort())\n",
        "l_authorized = EmptySet(IntSort())\n",
        "\n",
        "# event parameters are created as global machine variables\n",
        "# and not given initial values\n",
        "Vehicle = Const('Vehicle', IntSort())\n",
        "newVehicle = Const('newVehicle', IntSort())\n",
        "\n",
        "\n",
        "# LTL Spec 1\n",
        "#  after send_joining_request_executed (\n",
        "#   always authorize_joining_request_enabled\n",
        "#     unless joining_executed \n",
        "#   )\n",
        "e1 = (e_cons(send_joining_request_executed,e_nil))\n",
        "e2 = (e_cons(authorize_joining_request_enabled, e_nil))\n",
        "e3 = (e_cons(joining_rear_tail_executed, e_nil))\n",
        "\n",
        "alw1 = always(e2)\n",
        "unl1 = unless(alw1,e3)\n",
        "ltl_01 = after(e1,unl1)\n",
        "inv1 = ltl2py_after(ltl_01) \n",
        "\n",
        "# \"enabled\" variables are modelled as system invariants\n",
        "enb_inv1a = authorize_joining_request_enabled\n",
        "enb_inv1b = And(IsMember(newVehicle,vehicles),\n",
        "             Not(IsMember(newVehicle,platoon)),\n",
        "             IsMember(newVehicle,j_requests),\n",
        "             Not(eq(leader,EmptySet(IntSort()))))\n",
        "enb_inv1 = Implies(enb_inv1b,enb_inv1a)\n",
        "\n",
        "invariant = And(inv1,enb_inv1)\n",
        "\n",
        "# the precondition\n",
        "preCond = invariant\n",
        "\n",
        "# the postcondition\n",
        "postCond = preCond\n",
        "prove(postCond)\n",
        "\n",
        "prog0 = body_authorize_joining_request(newVehicle,platoon_event_names)\n",
        "wp0 = prog0(postCond)\n",
        "print('wp0:')\n",
        "#prove(Implies(wp0,Not(guard_authorize_joining_request(newVehicle))))\n",
        "prove(Implies(preCond,wp0))"
      ],
      "metadata": {
        "id": "all88Bm3Q54y",
        "colab": {
          "base_uri": "https://localhost:8080/"
        },
        "outputId": "70d87c0a-ca21-4251-dde5-1f924080b849"
      },
      "execution_count": 14,
      "outputs": [
        {
          "output_type": "stream",
          "name": "stdout",
          "text": [
            "proved\n",
            "wp0:\n",
            "proved\n"
          ]
        }
      ]
    },
    {
      "cell_type": "markdown",
      "metadata": {
        "id": "Ub8rs7CPqrEC"
      },
      "source": [
        "# Example 5.b: using WP calculus to verify an LTL formula\n",
        "\n",
        "```\n",
        "after send_joining_request_executed (\n",
        "  always authorize_joining_request_enabled\n",
        "    unless joining_executed \n",
        ")\n",
        "```  \n",
        "\n",
        "The Java code below is a unit test for an Eclipse project whose Java code is generated with the <code>EventB2Java</code> tool. The unit test succeeds in Eclipse with JUnit version 4. We replicate the same unit test but with <code>LTL2Py</code> and using WP calculus.\n",
        "\n",
        "We use WP calculus to prove whether the LTL property above holds or not. In the style of WP calculus, programs are predicate transformers. Hence, a WP function takes a postcondition and a program (an event implementation) and returns the WP under which the program can be executed and the postcondition will hold. \n",
        "\n",
        "WP functions work from the end to the begining of a program. Thus, in porting the JUnit test into our <code>LTL2Py</code> framework, we succesively calculae the WP for <code>joining_after</code> all the way back to <code>add_vehicle</code>. \n",
        "\n",
        "We set all the **enabled** variables to hold whenever the respective event's guard hold. For example, we set an invariant for the <code>authorize_joining_request_enabled</code> boolean variable to hold if and only if <code>authorize_joining_request</code>'s event guard does. \n",
        "\n",
        "Invariants must hold before and after the execution of every event. Therefore, they are added to every event's pre- and post-condition. \n",
        "\n",
        "Here is the Java unit test.\n",
        "\n",
        "```java\n",
        "    @Test\n",
        "    public void SEND_JOINING_REQUEST_test_inv1() {\n",
        "    \tInteger Vehicle = 0;\n",
        "    \tInteger newVehicle = 1;\n",
        "    \tInteger VehicleLeader = 2;\n",
        "    \tInteger L = platoon.leftLane;\n",
        "    \tInteger X = 0;\n",
        "    \t//\n",
        "    \tADD_VEHICLE av = new ADD_VEHICLE(machine);\n",
        "    \tassertTrue(av.guard_ADD_VEHICLE(L, Vehicle, X));\n",
        "    \tav.run_ADD_VEHICLE(L, Vehicle, X);\n",
        "    \tassertTrue(machine.get_vehicles().has(Vehicle));\n",
        "    \tassertTrue(av.guard_ADD_VEHICLE(L, newVehicle, X));\n",
        "    \tav.run_ADD_VEHICLE(L, newVehicle, X);\n",
        "    \tassertTrue(machine.get_vehicles().has(newVehicle));\n",
        "    \tassertTrue(av.guard_ADD_VEHICLE(L, VehicleLeader, X));\n",
        "    \tav.run_ADD_VEHICLE(L, VehicleLeader, X);\n",
        "    \tassertTrue(machine.get_vehicles().has(VehicleLeader));\n",
        "    \t//\n",
        "    \tSET_LEADER sl = new SET_LEADER(machine);\n",
        "    \tassertTrue(sl.guard_SET_LEADER(VehicleLeader));\n",
        "    \tsl.run_SET_LEADER(VehicleLeader);\n",
        "    \tassertEquals(VehicleLeader,machine.get_leader());\n",
        "    \t//\n",
        "    \tSEND_JOINING_REQUEST s = new SEND_JOINING_REQUEST(machine);\n",
        "    \tassertTrue(s.guard_SEND_JOINING_REQUEST(newVehicle));\n",
        "    \ts.run_SEND_JOINING_REQUEST(newVehicle);\n",
        "    \t//\n",
        "    \tAUTHORIZE_JOINING_REQUEST a = new AUTHORIZE_JOINING_REQUEST(machine);\n",
        "    \tassertTrue(a.guard_AUTHORIZE_JOINING_REQUEST(VehicleLeader, newVehicle));\n",
        "    \ta.run_AUTHORIZE_JOINING_REQUEST(VehicleLeader, newVehicle);\n",
        "    \t//\n",
        "    \tJOINING_AFTER ja = new JOINING_AFTER(machine);\n",
        "    \tassertTrue(ja.guard_JOINING_AFTER(Vehicle, newVehicle));\n",
        "    \tja.run_JOINING_AFTER(Vehicle, newVehicle);\n",
        "    \tassertFalse(a.guard_AUTHORIZE_JOINING_REQUEST(VehicleLeader, newVehicle));\n",
        "    }\n",
        "```\n"
      ]
    },
    {
      "cell_type": "code",
      "execution_count": 15,
      "metadata": {
        "id": "y_rpJ8IwL6x4",
        "colab": {
          "base_uri": "https://localhost:8080/"
        },
        "outputId": "003a45a0-a3a8-4cae-e324-98b38e47ec3d"
      },
      "outputs": [
        {
          "output_type": "stream",
          "name": "stdout",
          "text": [
            "counterexample\n",
            "[authorize_leaving_request_enabled = True]\n",
            "wp0:\n",
            "proved\n",
            "\n",
            "wp1:\n",
            "proved\n",
            "\n",
            "wp2: \n",
            "proved\n",
            "\n",
            "wp3: \n",
            "proved\n",
            "\n",
            "wp4: \n",
            "proved\n",
            "\n",
            "wp5: \n",
            "proved\n",
            "\n",
            "wp6: \n",
            "proved\n"
          ]
        }
      ],
      "source": [
        "platoon_event_names = ['add_vehicle','create_platoon', 'set_leader',\n",
        "         'send_joining_request', 'authorize_joining_request', \n",
        "         'joining_front', 'joining_front_head',\n",
        "         'joining_rear', 'joining_rear_tail',\n",
        "         'send_leaving_request', 'authorize_leaving_request',\n",
        "         'leaving']\n",
        "\n",
        "# *executed* machine variables\n",
        "add_vehicle_executed = Bool('add_vehicle_executed')\n",
        "create_platoon_executed = Bool('create_platoon_executed')\n",
        "set_leader_executed = Bool('set_leader_executed')\n",
        "send_joining_request_executed = Bool('send_joining_request_executed')\n",
        "authorize_joining_request_executed = Bool('authorize_joining_request_executed')\n",
        "joining_front_executed = Bool('joining_front_executed')\n",
        "joining_front_head_executed = Bool('joining_front_head_executed')\n",
        "joining_rear_executed = Bool('joining_rear_executed')\n",
        "joining_rear_tail_executed = Bool('joining_rear_tail_executed')\n",
        "send_leaving_request_executed = Bool('send_leaving_request_executed')\n",
        "authorize_leaving_request_executed = Bool('authorize_leaving_request_executed')\n",
        "leaving_executed = Bool('leaving_executed')\n",
        "\n",
        "# *enabled* machine variables\n",
        "add_vehicle_enabled = Bool('add_vehicle_enabled')\n",
        "create_platoon_enabled = Bool('create_platoon_enabled')\n",
        "set_leader_enabled = Bool('set_leader_enabled')\n",
        "send_joining_request_enabled = Bool('send_joining_request_enabled')\n",
        "authorize_joining_request_enabled = Bool('authorize_joining_request_enabled')\n",
        "joining_front_enabled = Bool('joining_front_enabled')\n",
        "joining_front_head_enabled = Bool('joining_front_head_enabled')\n",
        "joining_rear_enabled = Bool('joining_rear_enabled')\n",
        "joining_rear_tail_enabled = Bool('joining_rear_tail_enabled')\n",
        "send_leaving_request_enabled = Bool('send_leaving_request_enabled')\n",
        "authorize_leaving_request_enabled = Bool('authorize_leaving_request_enabled')\n",
        "leaving_enabled = Bool('leaving_enabled')\n",
        "\n",
        "# machine variables \n",
        "vehiclesSort = SetSort(IntSort())\n",
        "vehicles = Const('vehicles',vehiclesSort)\n",
        "platoon = Const('platoon',vehiclesSort)\n",
        "next = Array('next', IntSort(), IntSort())\n",
        "leader = Const('leader', SetSort(IntSort()))\n",
        "j_requests = Const('j_requests',vehiclesSort) \n",
        "j_authorized = Const('j_authorized',vehiclesSort)\n",
        "l_requests = Const('j_requests',vehiclesSort) \n",
        "l_authorized = Const('j_authorized',vehiclesSort)\n",
        "\n",
        "# *excuted* variables initial values\n",
        "add_vehicle_executed = BoolVal(False)\n",
        "create_platoon_executed = BoolVal(False)\n",
        "set_leader_executed = BoolVal(False)\n",
        "send_joining_request_executed = BoolVal(False)\n",
        "authorize_joining_request_executed = BoolVal(False)\n",
        "joining_front_executed = BoolVal(False)\n",
        "joining_front_head_executed = BoolVal(False)\n",
        "joining_rear_executed = BoolVal(False)\n",
        "joining_rear_tail_executed = BoolVal(False)\n",
        "send_leaving_request_executed = BoolVal(False)\n",
        "authorize_leaving_request_executed = BoolVal(False)\n",
        "leaving_executed = BoolVal(False)\n",
        "\n",
        "# *enabled* variables initial values\n",
        "authorize_joining_request_enabled = BoolVal(False)\n",
        "\n",
        "# machine variables initial values\n",
        "# this model works even when the initial values are not the empty-set\n",
        "vehicles = EmptySet(IntSort())\n",
        "platoon = EmptySet(IntSort())\n",
        "leader = EmptySet(IntSort())\n",
        "j_requests = EmptySet(IntSort())\n",
        "j_authorized = EmptySet(IntSort())\n",
        "l_requests = EmptySet(IntSort())\n",
        "l_authorized = EmptySet(IntSort())\n",
        "\n",
        "# event parameters are created as global machine variables\n",
        "# as per the definition of a parameter, they do not have initial values\n",
        "Vehicle = Const('Vehicle', IntSort())\n",
        "newVehicle = Const('newVehicle', IntSort())\n",
        "\n",
        "# LTL Spec 1\n",
        "#  after send_joining_request_executed (\n",
        "#   always authorize_joining_request_enabled\n",
        "#     unless joining_executed \n",
        "#   )\n",
        "e1 = (e_cons(send_joining_request_executed,e_nil))\n",
        "e2 = (e_cons(authorize_joining_request_enabled, e_nil))\n",
        "e3 = (e_cons(joining_rear_tail_executed, e_nil))\n",
        "\n",
        "alw1 = always(e2)\n",
        "unl1 = unless(alw1,e3)\n",
        "ltl_01 = after(e1,unl1)\n",
        "inv1 = ltl2py_after(ltl_01) \n",
        "\n",
        "# LTL Spec 2\n",
        "# after joining_executed (\n",
        "#  always authorize_joining_request_disabled\n",
        "# )\n",
        "e4 = (e_cons(authorize_joining_request_enabled == False, e_nil))\n",
        "e5 = (e_cons(joining_rear_tail_executed, e_nil))\n",
        "\n",
        "trace_prop2 = always(e4)\n",
        "\n",
        "ltl_prop2 = trace(trace_prop2)\n",
        "ltl_02 = after(e5,ltl_prop2)\n",
        "inv2 = ltl2py_after(ltl_02)\n",
        "\n",
        "# LTL Spect 3\n",
        "# after send_leaving_request executed\n",
        "#  ( \n",
        "# \talways authorize_leaving_request enabled\n",
        "# \t\tunless leaving executed\n",
        "#   )\n",
        "\n",
        "e6 = (e_cons(send_leaving_request_executed,e_nil))\n",
        "e7 = (e_cons(authorize_leaving_request_enabled, e_nil))\n",
        "e8 = (e_cons(leaving_executed, e_nil))\n",
        "alw3 = always(e7)\n",
        "unl3 = unless(alw3,e8)\n",
        "ltl_03 = after(e6,unl3)\n",
        "inv3 = ltl2py_after(ltl_03) \n",
        "\n",
        "\n",
        "# invariants for *enabled* variables: they are logically equivalent\n",
        "# to their respective event guards\n",
        "enb_inv1a = authorize_joining_request_enabled\n",
        "enb_inv1b = And(IsMember(newVehicle,vehicles),\n",
        "             Not(IsMember(newVehicle,platoon)),\n",
        "             IsMember(newVehicle,j_requests),\n",
        "             Not(eq(leader,EmptySet(IntSort()))))\n",
        "enb_inv1 = And(Implies(enb_inv1b,enb_inv1a),\n",
        "               Implies(enb_inv1a,enb_inv1b))  \n",
        "\n",
        "\n",
        "enb_inv2a = authorize_leaving_request_enabled\n",
        "enb_inv2b = And(IsMember(Vehicle,vehicles),\n",
        "             IsMember(Vehicle,platoon),\n",
        "             IsMember(Vehicle,l_requests),\n",
        "             Not(eq(leader,EmptySet(IntSort()))),\n",
        "             Not(IsMember(Vehicle,leader)))\n",
        "enb_inv2 = And(Implies(enb_inv2b,enb_inv2a),\n",
        "               Implies(enb_inv2a,enb_inv2b))  \n",
        "\n",
        "# pre: the machine precondition\n",
        "# the machine precondition should at least count for the machine invariant(s)\n",
        "preCond = And(inv3,inv2,inv1,enb_inv1,enb_inv2)\n",
        "\n",
        "# post: the machine postcondition; it should include the machine invariants\n",
        "postCond = preCond\n",
        "\n",
        "prove(postCond)\n",
        "\n",
        "prog0 = body_authorize_joining_request(newVehicle,platoon_event_names)\n",
        "wp0 = prog0(postCond)\n",
        "print('wp0:')\n",
        "prove(Implies(wp0,Not(guard_authorize_joining_request(newVehicle))))\n",
        "\n",
        "prog1 = body_joining_rear_tail(newVehicle,Vehicle,platoon_event_names)\n",
        "wp1 = prog1(postCond)\n",
        "print('\\nwp1:')\n",
        "prove(Implies(wp1,guard_joining_rear_tail(newVehicle,Vehicle)))\n",
        "\n",
        "prog2 = body_authorize_joining_request(newVehicle,platoon_event_names)\n",
        "wp2 = prog2(wp1)\n",
        "print('\\nwp2: ')\n",
        "prove(Implies(wp2,guard_authorize_joining_request(newVehicle)))\n",
        "\n",
        "prog3 = body_send_joining_request(newVehicle,platoon_event_names)\n",
        "wp3 = prog3(wp2)\n",
        "print('\\nwp3: ')\n",
        "prove(Implies(wp3,guard_send_joining_request(newVehicle)))\n",
        "\n",
        "prog4 = body_create_platoon(Vehicle,platoon_event_names)\n",
        "wp4 = prog4(wp3)\n",
        "print('\\nwp4: ')\n",
        "prove(Implies(wp4,guard_create_platoon(Vehicle)))\n",
        "\n",
        "prog5 = body_add_vehicle(Vehicle,platoon_event_names)\n",
        "wp5 = prog5(wp4)\n",
        "print('\\nwp5: ')\n",
        "prove(Implies(wp5,guard_add_vehicle(Vehicle)))\n",
        "\n",
        "prog6 = body_add_vehicle(newVehicle,platoon_event_names)\n",
        "wp6 = prog6(wp5)\n",
        "print('\\nwp6: ')\n",
        "prove(Implies(wp6,guard_add_vehicle(Vehicle)))"
      ]
    },
    {
      "cell_type": "markdown",
      "metadata": {
        "id": "GerjU06-710i"
      },
      "source": [
        "## LTL2Py: encoding LTL **Liveness** properties in Python\n",
        "\n",
        "Z3 <code>Datatypes</code> are not mutually recursive as required by out LTL extension for **liveness** properties, hence, we decided to use Objective Caml (OCaml) from our Notebook. You can read on how to run OCaml and Python code in a Colab notebook [here](using-python-and-ocaml-in-the-same-jupyter-notebook/). We also the syntax of our <code>ltl</code> extension in OCaml."
      ]
    },
    {
      "cell_type": "code",
      "execution_count": 16,
      "metadata": {
        "id": "wk2B7Tz49GRj",
        "colab": {
          "base_uri": "https://localhost:8080/"
        },
        "outputId": "62ed8c2a-cdec-4296-e822-f3037f5b99d3"
      },
      "outputs": [
        {
          "output_type": "stream",
          "name": "stdout",
          "text": [
            "Looking in indexes: https://pypi.org/simple, https://us-python.pkg.dev/colab-wheels/public/simple/\n",
            "Collecting ocaml==0.0.11\n",
            "  Downloading ocaml-0.0.11-py3-none-any.whl (1.6 MB)\n",
            "\u001b[2K     \u001b[90m━━━━━━━━━━━━━━━━━━━━━━━━━━━━━━━━━━━━━━━━\u001b[0m \u001b[32m1.6/1.6 MB\u001b[0m \u001b[31m19.6 MB/s\u001b[0m eta \u001b[36m0:00:00\u001b[0m\n",
            "\u001b[?25hCollecting wurlitzer\n",
            "  Downloading wurlitzer-3.0.3-py3-none-any.whl (7.3 kB)\n",
            "Installing collected packages: wurlitzer, ocaml\n",
            "Successfully installed ocaml-0.0.11 wurlitzer-3.0.3\n",
            "Looking in indexes: https://pypi.org/simple, https://us-python.pkg.dev/colab-wheels/public/simple/\n",
            "Requirement already satisfied: z3-solver in /usr/local/lib/python3.8/dist-packages (4.12.1.0)\n"
          ]
        }
      ],
      "source": [
        "!pip install ocaml==0.0.11\n",
        "!pip install \"z3-solver\""
      ]
    },
    {
      "cell_type": "code",
      "execution_count": 17,
      "metadata": {
        "id": "NNJyRNtp9PYc"
      },
      "outputs": [],
      "source": [
        "import ocaml"
      ]
    },
    {
      "cell_type": "code",
      "execution_count": 18,
      "metadata": {
        "id": "fRtIVgaON18Q"
      },
      "outputs": [],
      "source": [
        "%%ocaml\n",
        "type ltl =\n",
        "  | After of event * ltl\n",
        "  (*| Before of (event list) * ltl*)\n",
        "  (*| Between of (event list) * (event list) * trace*)\n",
        "  | Until of trace * event * variant * invariant * (event list)\n",
        "  | Unless of trace * event\n",
        "  | Ltl of trace \n",
        "and trace =\n",
        "  | Always of predicate\n",
        "  | Finally of predicate\n",
        "  | Eventually of predicate * variant * invariant * (event list)\n",
        "and event =\n",
        "  | Executed of string\n",
        "and predicate =\n",
        "  | Enabled of string\n",
        "  | Disabled of string\n",
        "  | AndPred of predicate * predicate\n",
        "  | OrPred of predicate * predicate\n",
        "  | NotPred of predicate\n",
        "  | TruePred\n",
        "  | FalsePred\n",
        "and variant =\n",
        "  | Variant of int\n",
        "and invariant =\n",
        "  | Invariant of predicate\n",
        "  ;;\n",
        "\n",
        "let rec ltl_pretty_print l =\n",
        "  match l with\n",
        "  | After(e,l1) -> \"After(\" ^event_pretty_print(e)^ \"),\" ^ltl_pretty_print(l1) ^\")\"\n",
        "  | Until(t,e,v,i,m) -> \"After(\" ^trace_pretty_print(t) ^\",\" \n",
        "                                ^trace_pretty_print(t) ^\",\" \n",
        "                                ^event_pretty_print(e) ^\",\" \n",
        "                                ^variant_pretty_print(v) ^\",\" \n",
        "                                ^invariant_pretty_print(i) ^\",\"\n",
        "                                ^all_pretty_print(m) ^\")\"\n",
        "  | Unless(t,e) -> \"Unless(\" ^trace_pretty_print(t) ^ \"),\" ^event_pretty_print(e) ^\")\"\n",
        "  | Ltl(t) -> trace_pretty_print(t) \n",
        "and trace_pretty_print t =\n",
        "  match t with \n",
        "  | Always(p) -> \"Always(\" ^pred_pretty_print(p) ^\")\"\n",
        "  | Finally(p) -> \"Finally(\" ^pred_pretty_print(p) ^\")\"\n",
        "  | Eventually(p,v,i,elist) -> \"Eventually(\" ^pred_pretty_print(p) ^\"),\" ^variant_pretty_print(v) ^\"),\" ^invariant_pretty_print(i) ^\"),\" ^some_pretty_print(elist) ^\")\"\n",
        "and pred_pretty_print p =\n",
        "  match p with\n",
        "  | TruePred -> \"BoolVal(True)\"\n",
        "  | FalsePred -> \"BoolVal(False)\"  \n",
        "  | NotPred(p) -> \"Not(ltl2py_pred(p))\" \n",
        "  | AndPred(p1,p2) -> \"And(ltl2py_pred(p1),ltl2py_pred(p2))\"\n",
        "  | OrPred(p1,p2) -> \"Or(ltl2py_pred(p1),ltl2py_pred(p2))\"\n",
        "  | Enabled(e) -> e^\"_enabled\"\n",
        "  | Disabled(e) -> \"Not(\" ^pred_pretty_print(Enabled(e)) ^\")\"\n",
        "and all_pretty_print elist =\n",
        "  match elist with\n",
        "  | [] -> \"BoolVal(True)\"\n",
        "  | e::el -> \"And(\" ^ event_pretty_print(e) ^\",\" ^all_pretty_print(el) ^ \")\"\n",
        "and some_pretty_print elist =\n",
        "  match elist with\n",
        "  | [] -> \"BoolVal(True)\"\n",
        "  | e::el -> \"Or(\"^event_pretty_print(e)^\",\"^some_pretty_print(el)^\")\"\n",
        "and event_pretty_print e =\n",
        "  match e with \n",
        "  | Executed(ee) -> ee^\"_executed\"\n",
        "and variant_pretty_print v =\n",
        "  match v with\n",
        "  | Variant(vv) -> string_of_int(vv)\n",
        "and invariant_pretty_print i =\n",
        "  match i with\n",
        "  | Invariant(p) -> pred_pretty_print(p)    \n",
        "  ;;  "
      ]
    },
    {
      "cell_type": "code",
      "execution_count": 19,
      "metadata": {
        "id": "sxgCgxpL-IrG",
        "colab": {
          "base_uri": "https://localhost:8080/"
        },
        "outputId": "3368d71a-c6b0-4911-b7a2-dd327be4e6d0"
      },
      "outputs": [
        {
          "output_type": "stream",
          "name": "stdout",
          "text": [
            "LTL safety property in Ocaml:\n",
            "After(joining_executed),Always(Not(authorize_joining_request_enabled)))\n",
            "\n",
            "LTL safety property in Ocaml:\n",
            "After(send_joining_request_executed),Unless(Always(authorize_joining_request_enabled)),joining_executed))\n"
          ]
        }
      ],
      "source": [
        "%%ocaml\n",
        "let example_01 =\n",
        "  let pred1 = Disabled(\"authorize_joining_request\") in\n",
        "    let trace1 = Always(pred1) in\n",
        "      let e1 = Executed(\"joining\") in \n",
        "        let temporal1 = After(e1,Ltl(trace1)) in\n",
        "          ltl_pretty_print(temporal1) \n",
        ";;\n",
        "\n",
        "let example_02 =\n",
        "  let pred1 = Enabled(\"authorize_joining_request\") in\n",
        "    let trace1 = Always(pred1) in\n",
        "      let e1 = Executed(\"joining\") in\n",
        "        let e2 = Executed(\"send_joining_request\") in\n",
        "          let temporal1 = Unless(trace1,e1) in\n",
        "            let temporal2 = After(e2,temporal1) in\n",
        "              ltl_pretty_print(temporal2)\n",
        ";;\n",
        "\n",
        "let () = print_endline \"LTL safety property in Ocaml:\" in\n",
        "  print_endline example_01\n",
        ";;\n",
        "\n",
        "print_endline \"\";;\n",
        "\n",
        "let () = print_endline \"LTL safety property in Ocaml:\" in\n",
        "  print_endline example_02\n",
        ";;\n"
      ]
    },
    {
      "cell_type": "code",
      "execution_count": 20,
      "metadata": {
        "id": "tyRiP3uLP-y0"
      },
      "outputs": [],
      "source": [
        "%%ocaml\n",
        "let ghost p e =  \n",
        "  match p, e with\n",
        "  | Enabled(e1), Executed(e2) -> e1 ^\"_enabled_\" ^e2 ^\"_executed_ghost\"\n",
        "  | Disabled(e1), Executed(e2) -> e1 ^\"_disabled_\" ^e2 ^\"_executed_ghost\"\n",
        "  | _,_ -> \"unsupported\"\n",
        "  ;;\n",
        "\n",
        "let ghost_pred p = \n",
        "  match p with\n",
        "  | Enabled(e1) -> e1 ^\"_enabled_ghost\"\n",
        "  | Disabled(e1) -> e1 ^\"_disabled_ghost\"\n",
        "  | _ -> \"unsupported\"\n",
        "  ;;\n",
        "\n",
        "let ghost_event e = \n",
        "  match e with\n",
        "  | Executed(e1) -> e1 ^\"_executed_ghost\"\n",
        "  ;;\n",
        "\n",
        "\n",
        "let rec ltl2py_ltl l =\n",
        "  match l with\n",
        "  \n",
        "   (* safety *)\n",
        "  | After(e1,Ltl(Always(p))) -> \"Implies(\" ^ltl2py_event(e1) ^\"),\" ^ltl2py_pred(p) ^\")\" \n",
        "  | After(e1,Unless(Always(p),e2)) -> \"Implies(\" ^ltl2py_event(e1) \n",
        "                                                      ^\"Or(\" ^ltl2py_pred(p) ^\"),\" \n",
        "                                                          ^\"Implies(\" ^ltl2py_event(e2) ^\"),\"\n",
        "                                                                    ^ \"Not(\" ^ltl2py_pred(p) ^\")\"\n",
        "                                                              ^\")\"\n",
        "                                                      ^\")\"\n",
        "                                          ^\")\" \n",
        "\n",
        "   (* liveness *)\n",
        "   | After(e1,Until(Always(p),e2,Variant(v),Invariant(j),_)) -> \n",
        "    \"And(\" \n",
        "    ^\"(\" ^string_of_int(v) ^\")>0,\"\n",
        "    ^\"Implies(\" ^ghost_event(e1) ^\",\" ^\"And(\" ^ltl2py_pred(j) ^\",\" ^ltl2py_pred(p) ^\")),\"\n",
        "    ^\"Implies(\" ^ltl2py_event(e1) ^\",\" ^ghost_event(e1) ^\"),\"\n",
        "    ^ghost_event(e1) ^\"==\" ^\"Or(oldState(\" ^ghost_event(e1) ^\"),\" ^ltl2py_event(e1) ^\"),\"\n",
        "    ^\"Not(And(\" ^string_of_int(v) ^\"== 0,\" ^ghost_event(e1)  ^\", Not(\" ^ltl2py_event(e2) ^\"))),\"   \n",
        "    ^\"Implies( And(oldState(\" ^ghost_event(e1) ^\"),\" ^\"oldState(\"^ltl2py_pred(j)^\"),\" ^\"oldState(\" ^ltl2py_pred(p) ^\"),\" ^\"Not(\" ^ltl2py_event(e2) ^\")),\" ^string_of_int(v) ^\"< oldState(\" ^string_of_int(v) ^\"))\"\n",
        "    ^\")\" \n",
        "  | After(e,Ltl(Eventually(p,Variant(v),Invariant(j),_))) -> \n",
        "    \"And(\" \n",
        "    ^\"(\" ^string_of_int(v) ^\")>0,\"\n",
        "    ^\"Implies( And(Not(\" ^ghost(p)(e) ^\"),\" ^ltl2py_event(e) ^\"), \" ^ltl2py_pred(j) ^\"),\"\n",
        "    ^\"Implies( And(\" ^ghost_pred(p) ^\",\" ^ghost_event(e) ^\"),\" ^ghost(p)(e) ^\"),\"\n",
        "    ^\"Implies(\" ^ltl2py_event(e) ^\",\" ^ghost_event(e) ^\"),\"\n",
        "    ^\"Implies( And(\" ^ghost_event(e) ^\",\" ^ltl2py_pred(p)^\"),\" ^ghost(p)(e) ^\"),\"\n",
        "    ^\"Implies( And(\" ^ghost_event(e) ^\",\" ^ghost_pred(p)^\"),\" ^ghost(p)(e) ^\"),\"\n",
        "    ^ghost_event(e) ^\"==\" ^\"Or(oldState(\" ^ghost_event(e) ^\"),\" ^ltl2py_event(e) ^\"),\"\n",
        "    ^\"Or(\" ^ghost(p)(e) ^\"==\" ^\"oldState(\" ^ghost(p)(e) ^\"),\" ^\"And(\" ^ghost_event(e) ^ltl2py_pred(p) ^\")),\"\n",
        "    ^\"Not(And(\" ^string_of_int(v) ^\"== 0,\" ^\"Not(\"^ghost(p)(e)^\"))),\"\n",
        "    ^\"Implies( And(Not(oldState(\" ^ghost(p)(e) ^\")),\" ^\"oldState(\"^ltl2py_event(e)^\"),\" ^ltl2py_pred(p) ^\"),\" ^string_of_int(v) ^\"< oldState(\" ^string_of_int(v) ^\"))\"\n",
        "    ^\")\" \n",
        "  | After(e1,Until(Finally(p),e2,Variant(v),Invariant(j),_)) -> \n",
        "    \"And(\"\n",
        "    ^\"(\" ^string_of_int(v) ^\")>0,\"\n",
        "    ^\"Implies( And(Not(\" ^ghost(p)(e1) ^\"),\" ^ltl2py_event(e1) ^\"), \" ^ltl2py_pred(j) ^\"),\"\n",
        "    ^\"Implies( And(\" ^ghost_pred(p) ^\",\" ^ghost_event(e1) ^\"),\" ^ghost(p)(e1) ^\"),\"\n",
        "    ^\"Implies(\" ^ltl2py_event(e1) ^\",\" ^ghost_event(e1) ^\"),\"\n",
        "    ^ghost_event(e1) ^\"==\" ^\"Or(oldState(\" ^ghost_event(e1) ^\"),\" ^ltl2py_event(e1) ^\"),\"\n",
        "    ^\"Or(\" ^ghost(p)(e1) ^\"==\" ^\"oldState(\" ^ghost(p)(e1) ^\"),\" ^\"And(\" ^ghost_event(e1) ^ltl2py_pred(p) ^\")),\"\n",
        "    ^\"Implies( And(Not(oldState(\" ^ghost(p)(e1) ^\")),\" ^\"oldState(\"^ltl2py_event(e1)^\"),\" ^ltl2py_event(e2) ^\"),\" ^string_of_int(v) ^\"< oldState(\" ^string_of_int(v) ^\"))\"\n",
        "    ^\")\" \n",
        "  | Until(Always(p),e,Variant(v),Invariant(j),_) -> \n",
        "    \"And(\"\n",
        "    ^\"(\" ^string_of_int(v) ^\")>0,\"\n",
        "    ^\"Implies( Not(\" ^ltl2py_event(e) ^\"),\" ^\"And(\" ^ltl2py_pred(j) ^\",\" ^ltl2py_pred(p) ^\")),\"\n",
        "    ^\"Not(And(\" ^string_of_int(v) ^\"==0,\" ^\"Not(\" ^ltl2py_event(e) ^\"))),\"\n",
        "    ^\"Implies( And(Not(oldState(\" ^ghost_event(e) ^\")),\" ^\"oldState(\"^ghost_pred(p)^\"),\" ^\"Not(\" ^ltl2py_event(e) ^\")),\" ^string_of_int(v) ^\"< oldState(\" ^string_of_int(v) ^\"))\"\n",
        "    ^\")\" \n",
        "  | Until(Finally(p),e,Variant(v),Invariant(j),_) ->  \n",
        "    \"And(\"\n",
        "    ^\"(\" ^string_of_int(v) ^\")>0,\" \n",
        "    ^\"Implies( Not(\" ^ltl2py_event(e) ^\"),\" ^ltl2py_pred(j) ^\"),\"\n",
        "    ^\"Implies(\" ^ltl2py_pred(p) ^\",\" ^ghost_pred(p) ^\"),\"\n",
        "    ^\"Implies(oldState(\" ^ghost_pred(p) ^\"),\" ^ghost_pred(p) ^\"),\"\n",
        "    ^\"Not(And(\" ^string_of_int(v) ^\"==0,\" ^\"Not(\" ^ltl2py_event(e) ^\"))),\"\n",
        "    ^\"Not(And(\" ^ltl2py_event(e) ^\",\" ^\"Not(\" ^ghost_pred(p) ^\"))),\"\n",
        "    ^\"Implies( And(oldState(\" ^ltl2py_event(e) ^\"),\" ^\"oldState(\" ^ltl2py_pred(j)  ^\"),\"  ^\"Not(\" ^ltl2py_event(e) ^\")))\"\n",
        "    ^\")\" \n",
        "  | Ltl(Eventually(p,Variant(v), Invariant(j), _)) ->\n",
        "    \"And(\"\n",
        "    ^\"(\" ^string_of_int(v) ^\")>0,\" \n",
        "    ^\"Implies( Not(\" ^ghost_pred(p) ^\"),\" ^ltl2py_pred(j) ^\"),\"\n",
        "    ^\"Implies( \" ^ltl2py_pred(p) ^\",\" ^ghost_pred(p) ^\"),\"\n",
        "    ^\"Implies( oldState(\" ^ghost_pred(p) ^\"),\" ^ghost_pred(p) ^\"),\"\n",
        "    ^ghost_pred(p) ^\"==\" ^\"Or(oldState(\" ^ghost_pred(p) ^\"),\" ^ltl2py_pred(p) ^\"),\"\n",
        "    ^\"Not(And(\" ^string_of_int(v) ^\"==0,\" ^\"Not(\" ^ghost_pred(p) ^\"))),\"\n",
        "    ^\"Implies( And(Not(oldState(\" ^ghost_pred(p) ^\")),\" ^\"oldState(\"^ltl2py_pred(j)^\"),\" ^ltl2py_pred(p) ^\"),\" ^string_of_int(v) ^\"< oldState(\" ^string_of_int(v) ^\"))\"\n",
        "    ^\")\" \n",
        "  | Unless(Eventually(p,Variant(v), Invariant(j), _),e) ->  \n",
        "    \"And(\"\n",
        "    ^\"(\" ^string_of_int(v) ^\")>0,\" \n",
        "    ^\"Implies( Not(\" ^ghost_pred(p) ^\"),\" ^ltl2py_pred(j) ^\"),\"\n",
        "    ^\"Implies( \" ^ltl2py_pred(p) ^\",\" ^ghost_pred(p) ^\"),\"\n",
        "    ^\"Implies( oldState(\" ^ghost_pred(p) ^\"),\" ^ghost_pred(p) ^\"),\"\n",
        "    ^ghost_pred(p) ^\"==\" ^\"Or(oldState(\" ^ghost_pred(p) ^\"),\" ^ltl2py_pred(p) ^\"),\"\n",
        "    ^\"Not(And(\" ^string_of_int(v) ^\"==0,\" ^\"Not(\" ^ghost_pred(p) ^\"))),\"\n",
        "    ^\"Implies( And(Not(oldState(\" ^ghost_pred(p) ^\")),\" ^\"oldState(\"^ltl2py_pred(j)^\"),\" ^\"Not(\" ^ltl2py_pred(p) ^\")),\" ^string_of_int(v) ^\"< oldState(\" ^string_of_int(v) ^\"))\"\n",
        "    ^\")\" \n",
        "  | After(e1,Unless(Eventually(p,Variant(v), Invariant(j), _),e2)) ->   \n",
        "    \"And(\"\n",
        "    ^\"(\" ^string_of_int(v) ^\")>0,\" \n",
        "    ^\"Implies( Not(\" ^ltl2py_event(e1) ^\"),\" ^ltl2py_pred(j) ^\"),\"\n",
        "    ^\"Implies( And(Not(\" ^ghost(p)(e1) ^\"),\" ^ltl2py_event(e1) ^\"),\" ^ltl2py_pred(j) ^\"),\"   \n",
        "    ^\"Implies( And(\" ^ghost_event(e1) ^\",\" ^ghost_pred(p) ^\"),\" ^ghost(p)(e1) ^\"),\"\n",
        "    ^\"Implies( \" ^ltl2py_event(e1) ^\",\" ^ghost_event(e1) ^\"),\"\n",
        "    ^\"Implies( And(\" ^ghost_event(e1) ^\",\" ^ltl2py_pred(p) ^\"),\" ^ghost(p)(e1) ^\"),\"\n",
        "    ^\"Implies( And(\" ^ghost_event(e1) ^\",\" ^ghost_pred(p) ^\"),\" ^ghost(p)(e1) ^\"),\"\n",
        "    ^\"Implies( \" ^ghost_event(e1) ^\"==\" ^\"Or(oldState(\" ^ghost_event(e1) ^\"),\" ^ltl2py_event(e1) ^\")),\"\n",
        "    ^\"Implies( \" ^ghost(p)(e1) ^\"==\" ^\"Or(oldState(\" ^ghost(p)(e1) ^\"),\" ^\"And(\" ^ghost_event(e1) ^\",\" ^ltl2py_pred(p) ^\")\" ^\")),\"\n",
        "    ^\"Not(And(\" ^string_of_int(v) ^\"==0,\" ^\"Not(\" ^ghost_pred(p) ^\"))),\"\n",
        "    ^\"Implies( And(Not(oldState(\" ^ghost_event(e1) ^\")),\" ^\"oldState(\"^ltl2py_pred(j)^\"),\" ^\"Not(\" ^ltl2py_pred(p) ^\")),\" ^string_of_int(v) ^\"< oldState(\" ^string_of_int(v) ^\"))\"\n",
        "    ^\")\" \n",
        "  | _ -> \"(unsupported)\" \n",
        "and ltl2py_trace t =\n",
        "  match t with\n",
        "  | Always(p) -> \"unsupported\"\n",
        "  | Finally(p) -> \"Unsupported\"\n",
        "  | Eventually(p,v,i,m) -> \"Unsupported\"\n",
        "and ltl2py_pred p =\n",
        "  match p with\n",
        "  | TruePred -> \"BoolVal(True)\"\n",
        "  | FalsePred -> \"BoolVal(False)\"  \n",
        "  | NotPred(p) -> \"Not(ltl2py_pred(p))\" \n",
        "  | AndPred(p1,p2) -> \"And(ltl2py_pred(p1),ltl2py_pred(p2))\"\n",
        "  | OrPred(p1,p2) -> \"Or(ltl2py_pred(p1),ltl2py_pred(p2))\"\n",
        "  | Enabled(e) -> e^\"_enabled\"\n",
        "  | Disabled(e) -> \"Not(\"^ltl2py_pred(Enabled(e))^\")\"\n",
        "and ltl2py_event e =\n",
        "  match e with \n",
        "  | Executed(ee) -> ee ^\"_executed\"\n",
        "  ;;"
      ]
    },
    {
      "cell_type": "markdown",
      "source": [
        "**Some examples of Safety and Liveness properties.**\n",
        "\n",
        "We next pretty-print some safety and liveness properties that we can express in OCaml (Objective Caml).\n",
        "\n",
        "*Safety*\n",
        "\n",
        "```\n",
        "after send_joining_request executed\n",
        " ( \n",
        "\talways authorize_joining_request enabled\n",
        "\t\tunless joining executed\n",
        "  )\n",
        "  ```"
      ],
      "metadata": {
        "id": "qHR2SiYDElvL"
      }
    },
    {
      "cell_type": "code",
      "source": [
        "%%ocaml\n",
        "let example_01 =\n",
        " let example = After(Executed(\"send_joining_request\"),\n",
        "              Unless(Always(Enabled(\"authorize_joining_request\")),Executed(\"joining_rear\"))) in\n",
        "  ltl_pretty_print example\n",
        "  ;;\n",
        "\n",
        "\n",
        "let () = print_endline \"property 01:\" in\n",
        "  print_endline example_01\n",
        ";;"
      ],
      "metadata": {
        "id": "N2x9DQwQqOlx",
        "colab": {
          "base_uri": "https://localhost:8080/"
        },
        "outputId": "d91ddc7e-dd9d-4ad5-afca-acf5960c6e83"
      },
      "execution_count": 21,
      "outputs": [
        {
          "output_type": "stream",
          "name": "stdout",
          "text": [
            "property 01:\n",
            "After(send_joining_request_executed),Unless(Always(authorize_joining_request_enabled)),joining_rear_executed))\n"
          ]
        }
      ]
    },
    {
      "cell_type": "markdown",
      "source": [
        "*Safety*\n",
        "\n",
        "```\n",
        "after joining executed\n",
        " ( \n",
        "\talways authorize_joining_request disabled\n",
        "  )\n",
        "  ```"
      ],
      "metadata": {
        "id": "ab47Achfuypg"
      }
    },
    {
      "cell_type": "code",
      "source": [
        "%%ocaml\n",
        "let example_02 =\n",
        " let example = After(Executed(\"joining\"),\n",
        "              Ltl(Always(Disabled(\"authorize_joining_request\")))) in\n",
        "  ltl_pretty_print example\n",
        "  ;;\n",
        "\n",
        "\n",
        "let () = print_endline \"property 02:\" in\n",
        "  print_endline example_02\n",
        ";;"
      ],
      "metadata": {
        "id": "nx4LYpAIreLT",
        "colab": {
          "base_uri": "https://localhost:8080/"
        },
        "outputId": "c53d6f91-bdd3-4fcf-ffb2-ddaac3cc68bc"
      },
      "execution_count": 22,
      "outputs": [
        {
          "output_type": "stream",
          "name": "stdout",
          "text": [
            "property 02:\n",
            "After(joining_executed),Always(Not(authorize_joining_request_enabled)))\n"
          ]
        }
      ]
    },
    {
      "cell_type": "markdown",
      "source": [
        "*Safety*\n",
        "```\n",
        "after send_leaving_request executed\n",
        " ( \n",
        "\talways authorize_leaving_request enabled\n",
        "\t\tunless leaving executed\n",
        "  )\n",
        "  ```"
      ],
      "metadata": {
        "id": "2V4brrsSvZo-"
      }
    },
    {
      "cell_type": "code",
      "source": [
        "%%ocaml\n",
        "let example_03 =\n",
        " let example = After(Executed(\"send_leaving_request\"),\n",
        "              Unless(Always(Enabled(\"authorize_leaving_request\")),Executed(\"joining_rear\"))) in\n",
        "  ltl_pretty_print example\n",
        "  ;;\n",
        "\n",
        "let () = print_endline \"property 03:\" in\n",
        "  print_endline example_03\n",
        ";;"
      ],
      "metadata": {
        "id": "oddv6Y18vNlW",
        "colab": {
          "base_uri": "https://localhost:8080/"
        },
        "outputId": "a861ca87-a75c-4c36-a702-e716eed9b6b5"
      },
      "execution_count": 23,
      "outputs": [
        {
          "output_type": "stream",
          "name": "stdout",
          "text": [
            "property 03:\n",
            "After(send_leaving_request_executed),Unless(Always(authorize_leaving_request_enabled)),joining_rear_executed))\n"
          ]
        }
      ]
    },
    {
      "cell_type": "markdown",
      "source": [
        "*Liveness*\n",
        "```\n",
        "after vehicle_overtake_request executed\n",
        " (\n",
        " \teventually vehicle_overtake enabled\n",
        "  \t\tunless vehicle_change_lane executed \n",
        " )\n",
        " ```"
      ],
      "metadata": {
        "id": "0X59Ptcg466Z"
      }
    },
    {
      "cell_type": "code",
      "source": [
        "%%ocaml\n",
        "let example_04 =\n",
        " let example = After(Executed(\"vehicle_overtake_request\"),\n",
        "              Unless(Finally(Enabled(\"vehicle_overtake\")),Executed(\"vehicle_change_lane\"))) in\n",
        "  ltl_pretty_print example\n",
        "  ;;\n",
        "\n",
        "let () = print_endline \"property 04:\" in\n",
        "  print_endline example_04\n",
        ";;"
      ],
      "metadata": {
        "id": "V3jSerr-5ReR",
        "colab": {
          "base_uri": "https://localhost:8080/"
        },
        "outputId": "c5398e9f-a3bd-4441-ac94-d2956a0818f9"
      },
      "execution_count": 24,
      "outputs": [
        {
          "output_type": "stream",
          "name": "stdout",
          "text": [
            "property 04:\n",
            "After(vehicle_overtake_request_executed),Unless(Finally(vehicle_overtake_enabled)),vehicle_change_lane_executed))\n"
          ]
        }
      ]
    },
    {
      "cell_type": "code",
      "source": [
        "%%ocaml\n",
        "let proof_obligations_01 = \n",
        "  let v = 5 and i = TruePred and m = [] in\n",
        "  let example = After(Executed(\"vehicle_overtake_request\"),\n",
        "                        Unless(Eventually(Enabled(\"vehicle_overtake\"),Variant(v),Invariant(i),m),\n",
        "                               Executed(\"vehicle_change_lane\"))) in\n",
        "    ltl_pretty_print example                           \n",
        "    ;;\n",
        "\n",
        "let () = print_endline \"liveness property: \" in\n",
        "  print_endline proof_obligations_01\n",
        "  ;;\n",
        "\n",
        "let proof_obligations_02 = \n",
        "  let v = 5 and i = TruePred and m = [] in\n",
        "  let liveness =  After(Executed(\"vehicle_overtake_request\"),\n",
        "                        Unless(Eventually(Enabled(\"vehicle_overtake\"),Variant(v),Invariant(i),m),\n",
        "                               Executed(\"vehicle_change_lane\"))) in\n",
        "    ltl2py_ltl liveness\n",
        "    ;;  \n",
        "\n",
        "let () = print_endline \"generated proof obligations: \" in\n",
        "  print_endline proof_obligations_02\n",
        "  ;;"
      ],
      "metadata": {
        "id": "fooqypD2AJoH",
        "colab": {
          "base_uri": "https://localhost:8080/"
        },
        "outputId": "4645ad82-73e3-4c63-cf0b-de61eb9e8504"
      },
      "execution_count": 25,
      "outputs": [
        {
          "output_type": "stream",
          "name": "stdout",
          "text": [
            "liveness property: \n",
            "After(vehicle_overtake_request_executed),Unless(Eventually(vehicle_overtake_enabled),5),BoolVal(True)),BoolVal(True))),vehicle_change_lane_executed))\n",
            "generated proof obligations: \n",
            "And((5)>0,Implies( Not(vehicle_overtake_request_executed),BoolVal(True)),Implies( And(Not(vehicle_overtake_enabled_vehicle_overtake_request_executed_ghost),vehicle_overtake_request_executed),BoolVal(True)),Implies( And(vehicle_overtake_request_executed_ghost,vehicle_overtake_enabled_ghost),vehicle_overtake_enabled_vehicle_overtake_request_executed_ghost),Implies( vehicle_overtake_request_executed,vehicle_overtake_request_executed_ghost),Implies( And(vehicle_overtake_request_executed_ghost,vehicle_overtake_enabled),vehicle_overtake_enabled_vehicle_overtake_request_executed_ghost),Implies( And(vehicle_overtake_request_executed_ghost,vehicle_overtake_enabled_ghost),vehicle_overtake_enabled_vehicle_overtake_request_executed_ghost),Implies( vehicle_overtake_request_executed_ghost==Or(oldState(vehicle_overtake_request_executed_ghost),vehicle_overtake_request_executed)),Implies( vehicle_overtake_enabled_vehicle_overtake_request_executed_ghost==Or(oldState(vehicle_overtake_enabled_vehicle_overtake_request_executed_ghost),And(vehicle_overtake_request_executed_ghost,vehicle_overtake_enabled))),Not(And(5==0,Not(vehicle_overtake_enabled_ghost))),Implies( And(Not(oldState(vehicle_overtake_request_executed_ghost)),oldState(BoolVal(True)),Not(vehicle_overtake_enabled)),5< oldState(5)))\n"
          ]
        }
      ]
    }
  ],
  "metadata": {
    "colab": {
      "provenance": []
    },
    "kernelspec": {
      "display_name": "Python 3",
      "name": "python3"
    },
    "language_info": {
      "name": "python"
    }
  },
  "nbformat": 4,
  "nbformat_minor": 0
}